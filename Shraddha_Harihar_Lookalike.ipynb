{
 "cells": [
  {
   "cell_type": "code",
   "execution_count": 1,
   "id": "8f878b5d",
   "metadata": {},
   "outputs": [],
   "source": [
    "#Data Preparation\n",
    "import pandas as pd\n",
    "from sklearn.preprocessing import StandardScaler\n",
    "from sklearn.metrics.pairwise import cosine_similarity"
   ]
  },
  {
   "cell_type": "code",
   "execution_count": 2,
   "id": "9f2a302c",
   "metadata": {},
   "outputs": [],
   "source": [
    "#Loading the dataset\n",
    "customers = pd.read_csv(r'C:\\Users\\Shraddha\\Downloads\\Zeotap Assignment\\Customers.csv')\n",
    "products = pd.read_csv(r'C:\\Users\\Shraddha\\Downloads\\Zeotap Assignment\\Products.csv')\n",
    "transactions = pd.read_csv(r'C:\\Users\\Shraddha\\Downloads\\Zeotap Assignment\\Transactions.csv')"
   ]
  },
  {
   "cell_type": "code",
   "execution_count": 3,
   "id": "60241b1d",
   "metadata": {},
   "outputs": [],
   "source": [
    "#Merging the datasets\n",
    "merged_data = pd.merge(transactions, customers, on = 'CustomerID')\n",
    "merged_data = pd.merge(merged_data, products, on = 'ProductID')"
   ]
  },
  {
   "cell_type": "code",
   "execution_count": 4,
   "id": "408b6a66",
   "metadata": {},
   "outputs": [],
   "source": [
    "#Feature Engineering\n",
    "customer_features = merged_data.groupby('CustomerID').agg({\n",
    "    'TotalValue':['sum', 'mean'],\n",
    "    'TransactionID': 'count',\n",
    "    'Category': lambda x: x.mode()[0],\n",
    "    'Region': 'first',\n",
    "    'SignupDate': 'first'\n",
    "}).reset_index()\n",
    "\n",
    "customer_features.columns = ['CustomerID', 'TotalValueSum', 'TotalValueMean', 'TransactionCount', 'TopCategory', 'Region', 'SignupDate']"
   ]
  },
  {
   "cell_type": "code",
   "execution_count": 5,
   "id": "2c99b5c9",
   "metadata": {},
   "outputs": [],
   "source": [
    "#Normalizing\n",
    "scaler = StandardScaler()\n",
    "customer_features[['TotalValueSum', 'TotalValueMean', 'TransactionCount']] = scaler.fit_transform(\n",
    "    customer_features[['TotalValueSum', 'TotalValueMean', 'TransactionCount']]\n",
    ")"
   ]
  },
  {
   "cell_type": "code",
   "execution_count": 6,
   "id": "3b0e8bd6",
   "metadata": {},
   "outputs": [],
   "source": [
    "#Calculating similarity\n",
    "encoded_features = pd.get_dummies(customer_features, columns=['Region', 'TopCategory'])\n",
    "similarity_matrix = cosine_similarity(encoded_features.drop(columns=['CustomerID', 'SignupDate']))"
   ]
  },
  {
   "cell_type": "code",
   "execution_count": 7,
   "id": "12b3f8e8",
   "metadata": {},
   "outputs": [],
   "source": [
    "#Finding top 3 lookalikes\n",
    "lookalike_map = {}\n",
    "for i, customer_id in enumerate(customer_features['CustomerID']):\n",
    "    similar_indices = similarity_matrix[i].argsort()[-4:-1][::-1]  # Top 3 excluding self\n",
    "    similar_customers = [\n",
    "        (customer_features.iloc[idx]['CustomerID'], similarity_matrix[i, idx]) \n",
    "        for idx in similar_indices\n",
    "    ]\n",
    "    lookalike_map[customer_id] = similar_customers"
   ]
  },
  {
   "cell_type": "code",
   "execution_count": 8,
   "id": "f00c3307",
   "metadata": {},
   "outputs": [],
   "source": [
    "#Filtering first 20 customers\n",
    "lookalike_subset = {k: lookalike_map[k] for k in customer_features['CustomerID'][:20]}"
   ]
  },
  {
   "cell_type": "code",
   "execution_count": 9,
   "id": "295d0d6b",
   "metadata": {},
   "outputs": [],
   "source": [
    "#Saving to CSV\n",
    "output_df = pd.DataFrame({\n",
    "    'CustomerID': lookalike_subset.keys(),\n",
    "    'Lookalikes': [str(v) for v in lookalike_subset.values()]\n",
    "})\n",
    "output_df.to_csv('Shraddha_Harihar_Lookalike.csv', index=False)"
   ]
  },
  {
   "cell_type": "code",
   "execution_count": null,
   "id": "1017e81a",
   "metadata": {},
   "outputs": [],
   "source": []
  }
 ],
 "metadata": {
  "kernelspec": {
   "display_name": "Python 3 (ipykernel)",
   "language": "python",
   "name": "python3"
  },
  "language_info": {
   "codemirror_mode": {
    "name": "ipython",
    "version": 3
   },
   "file_extension": ".py",
   "mimetype": "text/x-python",
   "name": "python",
   "nbconvert_exporter": "python",
   "pygments_lexer": "ipython3",
   "version": "3.11.5"
  }
 },
 "nbformat": 4,
 "nbformat_minor": 5
}
